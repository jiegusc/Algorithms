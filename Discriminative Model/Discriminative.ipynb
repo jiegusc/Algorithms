{
 "cells": [
  {
   "cell_type": "markdown",
   "id": "16915b97",
   "metadata": {},
   "source": [
    "Discriminative classifiers try to find boundaries that separate classes. All possible threshold values for boundaries are checked and the one that gives the lowest error is selected."
   ]
  },
  {
   "cell_type": "markdown",
   "id": "85f77d9f",
   "metadata": {},
   "source": [
    "Logistic regression, SVM, and tree based classifiers (e.g. decision tree) are examples of discriminative classifiers."
   ]
  },
  {
   "cell_type": "code",
   "execution_count": null,
   "id": "1d5b6a20",
   "metadata": {},
   "outputs": [],
   "source": []
  }
 ],
 "metadata": {
  "kernelspec": {
   "display_name": "Python 3 (ipykernel)",
   "language": "python",
   "name": "python3"
  },
  "language_info": {
   "codemirror_mode": {
    "name": "ipython",
    "version": 3
   },
   "file_extension": ".py",
   "mimetype": "text/x-python",
   "name": "python",
   "nbconvert_exporter": "python",
   "pygments_lexer": "ipython3",
   "version": "3.8.13"
  }
 },
 "nbformat": 4,
 "nbformat_minor": 5
}
