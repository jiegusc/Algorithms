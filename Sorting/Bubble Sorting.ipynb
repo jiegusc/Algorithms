{
 "cells": [
  {
   "cell_type": "markdown",
   "id": "71f38f5c",
   "metadata": {},
   "source": [
    "# Bubble Sorting"
   ]
  },
  {
   "cell_type": "code",
   "execution_count": 7,
   "id": "bcebdebd",
   "metadata": {},
   "outputs": [],
   "source": [
    "import numpy as np"
   ]
  },
  {
   "cell_type": "code",
   "execution_count": 13,
   "id": "923a4c2e",
   "metadata": {},
   "outputs": [],
   "source": [
    "def bubblesorting(array):\n",
    "    for i in range(len(array)):\n",
    "        flag = 1\n",
    "        for j in range(len(array)- 1, i, -1):\n",
    "            if array[j] < array[j - 1]:\n",
    "                array[j], array[j - 1] = array[j - 1], array[j]\n",
    "                flag = 0\n",
    "        if(flag):\n",
    "            break\n",
    "    return array"
   ]
  },
  {
   "cell_type": "code",
   "execution_count": null,
   "id": "09da78ce",
   "metadata": {},
   "outputs": [],
   "source": []
  },
  {
   "cell_type": "code",
   "execution_count": 14,
   "id": "a5506a72",
   "metadata": {},
   "outputs": [
    {
     "name": "stdout",
     "output_type": "stream",
     "text": [
      "[0, 0, 0, 0, 0, 1, 1, 1, 1, 1, 1, 1, 1, 2, 2, 2, 2, 2, 2, 2, 2, 2, 2, 2, 3, 3, 3, 3, 3, 3, 3, 3, 3, 3, 3, 3, 3, 3, 3, 4, 4, 4, 4, 4, 4, 4, 4, 4, 5, 5, 5, 5, 5, 5, 5, 5, 5, 5, 6, 6, 6, 6, 6, 6, 6, 6, 6, 6, 6, 6, 6, 6, 7, 7, 7, 7, 7, 7, 7, 7, 7, 7, 7, 8, 8, 8, 8, 8, 8, 8, 8, 8, 9, 9, 9, 9, 9, 9, 9, 9]\n"
     ]
    }
   ],
   "source": [
    "test = [np.random.randint(10) for _ in range(100)]\n",
    "print(bubblesorting(test))"
   ]
  },
  {
   "cell_type": "markdown",
   "id": "ee187fca",
   "metadata": {},
   "source": [
    "优化：从尾部开始向前移动\n",
    "好处在于：排序时候从后边开始，将较小者往前边移动。这样较小者会不断往前移动。解决了第一种写法，可能将较小者移到后边的情况，提高了算法效率。在上十万条数据的排序过程中，这种差异将会体现出来。\n",
    "\n",
    "优化：添加标记，标记每趟是否交换了数值，没有说明排序完成，提前结束\n"
   ]
  }
 ],
 "metadata": {
  "kernelspec": {
   "display_name": "Python 3 (ipykernel)",
   "language": "python",
   "name": "python3"
  },
  "language_info": {
   "codemirror_mode": {
    "name": "ipython",
    "version": 3
   },
   "file_extension": ".py",
   "mimetype": "text/x-python",
   "name": "python",
   "nbconvert_exporter": "python",
   "pygments_lexer": "ipython3",
   "version": "3.8.13"
  }
 },
 "nbformat": 4,
 "nbformat_minor": 5
}
