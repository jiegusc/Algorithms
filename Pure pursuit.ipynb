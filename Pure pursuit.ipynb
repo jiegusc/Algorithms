{
 "cells": [
  {
   "cell_type": "code",
   "execution_count": 1,
   "id": "69ec0889",
   "metadata": {},
   "outputs": [],
   "source": [
    "import numpy as np\n",
    "import math\n",
    "import matplotlib.pyplot as plt"
   ]
  },
  {
   "cell_type": "code",
   "execution_count": 3,
   "id": "91282810",
   "metadata": {},
   "outputs": [],
   "source": [
    "k = 0.1  # 前视距离系数\n",
    "Lfc = 0.1  # 前视距离\n",
    "Kp = 1.0  # 速度P控制器系数\n",
    "dt = 0.1  # 时间间隔，单位：s\n",
    "L = 0.6 # 车辆轴距，单位：m"
   ]
  },
  {
   "cell_type": "code",
   "execution_count": 13,
   "id": "915f61e4",
   "metadata": {},
   "outputs": [],
   "source": [
    "class VehicleState:\n",
    " \n",
    "    def __init__(self, x=0.0, y=0.0, yaw=0.0, v=0.0):\n",
    "        self.x = x\n",
    "        self.y = y\n",
    "        self.yaw = yaw\n",
    "        self.v = v\n",
    " \n",
    " \n",
    "def update(state, a, delta):\n",
    " \n",
    "    state.x = state.x + state.v * math.cos(state.yaw) * dt\n",
    "    state.y = state.y + state.v * math.sin(state.yaw) * dt\n",
    "    state.yaw = state.yaw + state.v / L * math.tan(delta) * dt\n",
    "    state.v = state.v + a * dt\n",
    " \n",
    "    return state\n",
    "\n",
    "def PIDControl(target, current):\n",
    "    a = Kp * (target - current)\n",
    "    return a"
   ]
  },
  {
   "cell_type": "code",
   "execution_count": 8,
   "id": "03cf4617",
   "metadata": {},
   "outputs": [],
   "source": [
    "def pure_pursuit_control(state, cx, cy, pind):   \n",
    "    ind = calc_target_index(state, cx, cy)        #搜寻最近的点 ind\n",
    "    '''\n",
    "    # 每次运行 pure pursuit control时\n",
    "    # 首选从路径中选择一个最近的点\n",
    "    # 再从这个点展开，寻找一个长度为前视距离的点；\n",
    "    # 然后计算 转向角δ；\n",
    "    '''\n",
    "\n",
    "    if pind >= ind:                        \n",
    "        ind = pind\n",
    "    '''\n",
    "     # 如果初始目标点序号在搜索的点后，直接更新当前搜索点的序号为初始序号\n",
    "     # 在经历初次之后，把当前点赋予作为下一个目标点标志；\n",
    "    '''\n",
    "\n",
    "    if ind < len(cx):        #若目标点没有超过范围，去具体坐标赋予 tx，ty用作目标\n",
    "        tx = cx[ind]\n",
    "        ty = cy[ind]\n",
    "    else:                    #若超过了，把最后一个点赋给目标\n",
    "        tx = cx[-1]\n",
    "        ty = cy[-1]\n",
    "        ind = len(cx) - 1\n",
    "    alpha = math.atan2(ty - state.y, tx - state.x) - state.yaw      #计算当前点到目标点的方向角差\n",
    "    if state.v < 0:  # back\n",
    "        alpha = math.pi - alpha\n",
    "\n",
    "    Lf = k * state.v + Lfc                                       #前视距离\n",
    "\n",
    "    # 前视距离的选取与速度有关，也与单位时间距离有关\n",
    "\n",
    "\n",
    "    delta = math.atan2(2.0 * L * math.sin(alpha) / Lf, 1.0)      #计算转向角\n",
    "    return delta, ind"
   ]
  },
  {
   "cell_type": "code",
   "execution_count": 7,
   "id": "5c042e5c",
   "metadata": {},
   "outputs": [],
   "source": [
    "def calc_target_index(state, cx, cy):\n",
    "    # 搜索最临近的路点\n",
    "    dx = [state.x - icx for icx in cx]\n",
    "    dy = [state.y - icy for icy in cy]\n",
    "    d = [abs(math.sqrt(idx ** 2 + idy ** 2)) for (idx, idy) in zip(dx, dy)]\n",
    "    ind = d.index(min(d))     # 找出最小的d所在的位置\n",
    "    J = 0.0\n",
    "    Lf = k * state.v + Lfc\n",
    "    '''\n",
    "    首先从目标点中找到一个离当前点最近的点\n",
    "    然后计算离这个点距离满足前视距离的下一个点\n",
    "    当两点之间的距离小于前视距离，需要累加几个点直至距离超过前视距离\n",
    "      \n",
    "    \n",
    "    # search look ahead target point index\n",
    "    # 解读：从path point 接下来中找到 离当前点最接近于 前视距离的一个点\n",
    "    # 当路径中的下一个点离当前很远时，这里保证了目标点至少下移一个点，不会停留在原地  \n",
    "    '''\n",
    "    while Lf > J and (ind + 1) < len(cx):    \n",
    "        dx = cx[ind + 1] - cx[ind]\n",
    "        dy = cy[ind + 1] - cy[ind]\n",
    "        J += math.sqrt(dx ** 2 + dy ** 2)   \n",
    "        ind += 1\n",
    "    return ind"
   ]
  },
  {
   "cell_type": "code",
   "execution_count": 18,
   "id": "9181d7ae",
   "metadata": {},
   "outputs": [],
   "source": [
    "def main():\n",
    "    #  设置目标路点\n",
    "    cx = [0.76, 1.52, 2.28, 3.04, 3.81, 4.57, 5.33, 5.44, 5.64, 5.66, 5.33, 5.30, 4.39, 4.55, 5.33, 6.33, 6.90, 6.55, 5.33, 3.89, 3.13, 3.66, 5.33, 7.22, 8.16, 7.44, 5.33, 3.00]\n",
    "    cy = [0.52, 1.04, 1.57, 2.09, 2.61, 3.14, 3.66, 3.77, 3.66, 3.33, 3.03, 3.03, 3.66, 4.44, 4.92, 4.66, 3.66, 2.44, 1.78, 2.22, 3.66, 5.33, 6.18, 5.55, 3.66, 1.55, 0.52, 1.33]\n",
    "    \n",
    " \n",
    "    target_speed = 2.0 / 3.6  # [m/s]\n",
    " \n",
    "    T = 100.0  # 最大模拟时间\n",
    " \n",
    "    # 设置车辆的出事状态\n",
    "    state = VehicleState(x=-0.0, y=-3.0, yaw=0.0, v=2.0)\n",
    " \n",
    "    lastIndex = len(cx) - 1\n",
    "    time = 0.0\n",
    "    x = [state.x]\n",
    "    y = [state.y]\n",
    "    yaw = [state.yaw]\n",
    "    v = [state.v]\n",
    "    t = [0.0]\n",
    "    target_ind = calc_target_index(state, cx, cy)\n",
    " \n",
    "    while T >= time and lastIndex > target_ind:\n",
    "        ai = PIDControl(target_speed, state.v)\n",
    "        di, target_ind = pure_pursuit_control(state, cx, cy, target_ind)\n",
    "        state = update(state, ai, di)\n",
    " \n",
    "        time = time + dt\n",
    " \n",
    "        x.append(state.x)\n",
    "        y.append(state.y)\n",
    "        yaw.append(state.yaw)\n",
    "        v.append(state.v)\n",
    "        t.append(time)\n",
    "        \n",
    "#         plt.cla()\n",
    "        plt.plot(cx, cy, \".r\", label=\"course\")\n",
    "        plt.plot(x, y, \"-b\", label=\"trajectory\")\n",
    "        plt.plot(cx[target_ind], cy[target_ind], \"go\", label=\"target\")\n",
    "#         plt.axis(\"equal\")\n",
    "#         plt.grid(True)\n",
    "#         plt.title(\"Speed[km/h]:\" + str(state.v * 3.6)[:4])\n",
    "#         plt.pause(0.001)\n",
    " "
   ]
  },
  {
   "cell_type": "code",
   "execution_count": 19,
   "id": "ff1936fc",
   "metadata": {},
   "outputs": [
    {
     "data": {
      "image/png": "[encoded data removed]",
      "text/plain": [
       "<Figure size 432x288 with 1 Axes>"
      ]
     },
     "metadata": {
      "needs_background": "light"
     },
     "output_type": "display_data"
    }
   ],
   "source": [
    "main()\n"
   ]
  },
  {
   "cell_type": "markdown",
   "id": "175ef6d5",
   "metadata": {},
   "source": [
    "Reference:  \n",
    "https://www.ri.cmu.edu/pub_files/pub3/coulter_r_craig_1992_1/coulter_r_craig_1992_1.pdf#:~:text=The%20implementation%20of%20the%20pure%20pursuit%20algorithm%20itself,point%20Transform%20the%20goal%20pohl%20to%20vehicle%20coordinates."
   ]
  },
  {
   "cell_type": "code",
   "execution_count": 21,
   "id": "df54a388",
   "metadata": {},
   "outputs": [
    {
     "data": {
      "text/plain": [
       "1.0"
      ]
     },
     "execution_count": 21,
     "metadata": {},
     "output_type": "execute_result"
    }
   ],
   "source": [
    "np.cos(np.pi * 2)"
   ]
  },
  {
   "cell_type": "code",
   "execution_count": null,
   "id": "a031956d",
   "metadata": {},
   "outputs": [],
   "source": []
  }
 ],
 "metadata": {
  "kernelspec": {
   "display_name": "Python 3 (ipykernel)",
   "language": "python",
   "name": "python3"
  },
  "language_info": {
   "codemirror_mode": {
    "name": "ipython",
    "version": 3
   },
   "file_extension": ".py",
   "mimetype": "text/x-python",
   "name": "python",
   "nbconvert_exporter": "python",
   "pygments_lexer": "ipython3",
   "version": "3.8.13"
  }
 },
 "nbformat": 4,
 "nbformat_minor": 5
}
