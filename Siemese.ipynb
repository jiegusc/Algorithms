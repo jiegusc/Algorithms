{
 "cells": [
  {
   "cell_type": "markdown",
   "id": "f3672037",
   "metadata": {},
   "source": [
    "Siemese Algo:Encoding a image into a vector.  \n",
    "https://blog.csdn.net/u011285477/article/details/103528949"
   ]
  },
  {
   "cell_type": "code",
   "execution_count": 8,
   "id": "4797b757",
   "metadata": {},
   "outputs": [],
   "source": [
    "import numpy as np\n",
    "import matplotlib.pyplot as plt"
   ]
  },
  {
   "cell_type": "code",
   "execution_count": 9,
   "id": "fd146213",
   "metadata": {},
   "outputs": [],
   "source": [
    "n = np.linspace(-10,10,1000)"
   ]
  },
  {
   "cell_type": "code",
   "execution_count": 11,
   "id": "af28288a",
   "metadata": {},
   "outputs": [],
   "source": [
    "val = np.exp(n)"
   ]
  },
  {
   "cell_type": "code",
   "execution_count": 12,
   "id": "8740a3fe",
   "metadata": {},
   "outputs": [
    {
     "data": {
      "text/plain": [
       "[<matplotlib.lines.Line2D at 0x7fa924c23b20>]"
      ]
     },
     "execution_count": 12,
     "metadata": {},
     "output_type": "execute_result"
    },
    {
     "data": {
      "image/png": "[encoded data removed]",
      "text/plain": [
       "<Figure size 432x288 with 1 Axes>"
      ]
     },
     "metadata": {
      "needs_background": "light"
     },
     "output_type": "display_data"
    }
   ],
   "source": [
    "plt.plot(n,val)"
   ]
  },
  {
   "cell_type": "code",
   "execution_count": null,
   "id": "36265efa",
   "metadata": {},
   "outputs": [],
   "source": []
  }
 ],
 "metadata": {
  "kernelspec": {
   "display_name": "Python 3 (ipykernel)",
   "language": "python",
   "name": "python3"
  },
  "language_info": {
   "codemirror_mode": {
    "name": "ipython",
    "version": 3
   },
   "file_extension": ".py",
   "mimetype": "text/x-python",
   "name": "python",
   "nbconvert_exporter": "python",
   "pygments_lexer": "ipython3",
   "version": "3.8.13"
  }
 },
 "nbformat": 4,
 "nbformat_minor": 5
}
