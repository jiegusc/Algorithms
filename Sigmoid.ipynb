{
 "cells": [
  {
   "cell_type": "markdown",
   "id": "49abf5b7",
   "metadata": {},
   "source": [
    "# sigmoid equation\n"
   ]
  },
  {
   "cell_type": "code",
   "execution_count": 4,
   "id": "09a69794",
   "metadata": {},
   "outputs": [],
   "source": [
    "import numpy as np"
   ]
  },
  {
   "cell_type": "code",
   "execution_count": 5,
   "id": "05ec31c5",
   "metadata": {},
   "outputs": [],
   "source": [
    "def sigmoid(x):\n",
    "    return 1 / (1 + np.exp(-x))"
   ]
  },
  {
   "cell_type": "code",
   "execution_count": 9,
   "id": "372701a0",
   "metadata": {},
   "outputs": [
    {
     "name": "stdout",
     "output_type": "stream",
     "text": [
      "0.9933071490757153\n"
     ]
    }
   ],
   "source": [
    "test = 5\n",
    "sig_val = sigmoid(test)\n",
    "print(sig_val)\n"
   ]
  },
  {
   "cell_type": "markdown",
   "id": "aca610f1",
   "metadata": {},
   "source": [
    "# Inverse sigmoid\n"
   ]
  },
  {
   "cell_type": "code",
   "execution_count": 11,
   "id": "4452ed0f",
   "metadata": {},
   "outputs": [],
   "source": [
    "def inverse_sigmoid(val):\n",
    "    return np.log(val / (1 - val))"
   ]
  },
  {
   "cell_type": "code",
   "execution_count": 12,
   "id": "23674b97",
   "metadata": {},
   "outputs": [
    {
     "name": "stdout",
     "output_type": "stream",
     "text": [
      "5.000000000000019\n"
     ]
    }
   ],
   "source": [
    "print(inverse_sigmoid(sig_val))"
   ]
  }
 ],
 "metadata": {
  "kernelspec": {
   "display_name": "Python 3 (ipykernel)",
   "language": "python",
   "name": "python3"
  },
  "language_info": {
   "codemirror_mode": {
    "name": "ipython",
    "version": 3
   },
   "file_extension": ".py",
   "mimetype": "text/x-python",
   "name": "python",
   "nbconvert_exporter": "python",
   "pygments_lexer": "ipython3",
   "version": "3.8.13"
  }
 },
 "nbformat": 4,
 "nbformat_minor": 5
}
